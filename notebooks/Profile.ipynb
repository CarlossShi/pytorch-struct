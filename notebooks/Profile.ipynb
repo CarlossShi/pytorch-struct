{
  "nbformat": 4,
  "nbformat_minor": 0,
  "metadata": {
    "colab": {
      "name": "Copy of Profile.ipynb",
      "version": "0.3.2",
      "provenance": [],
      "include_colab_link": true
    },
    "kernelspec": {
      "name": "python3",
      "display_name": "Python 3"
    },
    "accelerator": "GPU"
  },
  "cells": [
    {
      "cell_type": "markdown",
      "metadata": {
        "id": "view-in-github",
        "colab_type": "text"
      },
      "source": [
        "<a href=\"https://colab.research.google.com/github/harvardnlp/pytorch-struct/blob/master/notebooks/Profile.ipynb\" target=\"_parent\"><img src=\"https://colab.research.google.com/assets/colab-badge.svg\" alt=\"Open In Colab\"/></a>"
      ]
    },
    {
      "cell_type": "code",
      "metadata": {
        "id": "-GCl1SQj0Zzq",
        "colab_type": "code",
        "outputId": "3024a7ff-e83b-4fb4-f27b-b67320261226",
        "colab": {
          "base_uri": "https://localhost:8080/",
          "height": 227
        }
      },
      "source": [
        "!pip install -q git+https://github.com/harvardnlp/pytorch-struct"
      ],
      "execution_count": 0,
      "outputs": [
        {
          "output_type": "stream",
          "text": [
            "Collecting git+https://github.com/harvardnlp/pytorch-struct\n",
            "  Cloning https://github.com/harvardnlp/pytorch-struct to /tmp/pip-req-build-dw3y29b9\n",
            "  Running command git clone -q https://github.com/harvardnlp/pytorch-struct /tmp/pip-req-build-dw3y29b9\n",
            "Requirement already satisfied: torch in /usr/local/lib/python3.6/dist-packages (from torch-struct==0.0.1) (1.1.0)\n",
            "Requirement already satisfied: numpy in /usr/local/lib/python3.6/dist-packages (from torch->torch-struct==0.0.1) (1.16.4)\n",
            "Building wheels for collected packages: torch-struct\n",
            "  Building wheel for torch-struct (setup.py) ... \u001b[?25l\u001b[?25hdone\n",
            "  Created wheel for torch-struct: filename=torch_struct-0.0.1-cp36-none-any.whl size=9041 sha256=bc44752cb6edd03a51320c580288aac3400fd6feda32341c2de6a7d68dfa608d\n",
            "  Stored in directory: /tmp/pip-ephem-wheel-cache-vhcllyez/wheels/09/fb/89/da9884054268d6a17b10f5fd2ebc7e7f0222bb9f3361107ea0\n",
            "Successfully built torch-struct\n",
            "Installing collected packages: torch-struct\n",
            "Successfully installed torch-struct-0.0.1\n"
          ],
          "name": "stdout"
        }
      ]
    },
    {
      "cell_type": "code",
      "metadata": {
        "id": "QBdr0egi0ozr",
        "colab_type": "code",
        "colab": {}
      },
      "source": [
        "import torch\n",
        "import torch_struct"
      ],
      "execution_count": 0,
      "outputs": []
    },
    {
      "cell_type": "code",
      "metadata": {
        "id": "kh1Sctfr1XRU",
        "colab_type": "code",
        "outputId": "39d2901a-96cc-4359-faf0-cc1a239ffbdc",
        "colab": {
          "base_uri": "https://localhost:8080/",
          "height": 422
        }
      },
      "source": [
        "logits = torch.rand(50, 100, 100, requires_grad=True).cuda()\n",
        "with torch.autograd.profiler.profile(use_cuda=True) as prof:\n",
        "    q = torch_struct.deptree_inside(logits)\n",
        "print(prof.key_averages().table(sort_by=\"cuda_time_total\"))"
      ],
      "execution_count": 0,
      "outputs": [
        {
          "output_type": "stream",
          "text": [
            "---------------------  ---------------  ---------------  ---------------  ---------------  ---------------  ---------------  ---------------  ---------------  ---------------\n",
            "Name                   Self CPU total %   Self CPU total      CPU total %        CPU total     CPU time avg     CUDA total %       CUDA total    CUDA time avg  Number of Calls\n",
            "---------------------  ---------------  ---------------  ---------------  ---------------  ---------------  ---------------  ---------------  ---------------  ---------------\n",
            "logsumexp                       22.67%         30.677ms           22.67%         30.677ms        153.383us           21.93%         34.912ms        174.560us              200\n",
            "stack                           18.24%         24.684ms           18.24%         24.684ms         49.368us           20.28%         32.284ms         64.568us              500\n",
            "to                              14.74%         19.949ms           17.25%         23.351ms         46.149us           13.19%         21.010ms         41.522us              506\n",
            "slice                           15.10%         20.440ms           15.10%         20.440ms          4.973us           10.23%         16.286ms          3.963us             4110\n",
            "add                              5.97%          8.085ms            5.97%          8.085ms         26.950us            7.06%         11.246ms         37.487us              300\n",
            "index                            5.79%          7.842ms            5.79%          7.842ms         39.209us            7.01%         11.167ms         55.837us              200\n",
            "type_as                          0.59%        792.003us            7.38%          9.982ms         94.174us            6.26%          9.967ms         94.032us              106\n",
            "select                           6.97%          9.428ms            6.97%          9.428ms          5.224us            4.62%          7.357ms          4.076us             1805\n",
            "fill_                            2.19%          2.966ms            2.19%          2.966ms         14.259us            2.48%          3.945ms         18.969us              208\n",
            "view                             2.94%          3.975ms            2.94%          3.975ms          6.614us            2.13%          3.393ms          5.645us              601\n",
            "empty                            2.99%          4.049ms            2.99%          4.049ms          6.682us            2.00%          3.179ms          5.246us              606\n",
            "scalar_tensor                    0.71%        965.751us            2.09%          2.826ms         28.257us            1.88%          3.000ms         30.002us              100\n",
            "unsqueeze                        0.62%        834.928us            0.62%        834.928us          8.349us            0.52%        830.504us          8.305us              100\n",
            "expand                           0.31%        424.458us            0.31%        424.458us          4.245us            0.21%        342.098us          3.421us              100\n",
            "is_floating_point                0.17%        229.479us            0.17%        229.479us          2.186us            0.19%        308.453us          2.938us              105\n",
            "---------------------  ---------------  ---------------  ---------------  ---------------  ---------------  ---------------  ---------------  ---------------  ---------------\n",
            "Self CPU time total: 135.341ms\n",
            "CUDA time total: 159.228ms\n",
            "\n"
          ],
          "name": "stdout"
        }
      ]
    },
    {
      "cell_type": "code",
      "metadata": {
        "id": "pYHBDhAE2fqy",
        "colab_type": "code",
        "outputId": "33b91654-79e4-438f-b11c-a008452dc570",
        "colab": {
          "base_uri": "https://localhost:8080/",
          "height": 52
        }
      },
      "source": [
        "%%time\n",
        "logits = torch.rand(50, 100, 100, requires_grad=True).cuda()\n",
        "q = torch_struct.deptree(logits)"
      ],
      "execution_count": 0,
      "outputs": [
        {
          "output_type": "stream",
          "text": [
            "CPU times: user 459 ms, sys: 61.9 ms, total: 521 ms\n",
            "Wall time: 527 ms\n"
          ],
          "name": "stdout"
        }
      ]
    },
    {
      "cell_type": "code",
      "metadata": {
        "id": "rdL_vhok0wal",
        "colab_type": "code",
        "outputId": "23f2a235-445a-465d-d1ea-1bf11004b677",
        "colab": {
          "base_uri": "https://localhost:8080/",
          "height": 824
        }
      },
      "source": [
        "logits = torch.rand(50, 100, 100, requires_grad=True).cuda()\n",
        "with torch.autograd.profiler.profile(use_cuda=True) as prof:\n",
        "    q = torch_struct.deptree(logits)\n",
        "print(prof.key_averages().table(sort_by=\"cuda_time_total\"))"
      ],
      "execution_count": 0,
      "outputs": [
        {
          "output_type": "stream",
          "text": [
            "----------------------------------  ---------------  ---------------  ---------------  ---------------  ---------------  ---------------  ---------------  ---------------  ---------------\n",
            "Name                                Self CPU total %   Self CPU total      CPU total %        CPU total     CPU time avg     CUDA total %       CUDA total    CUDA time avg  Number of Calls\n",
            "----------------------------------  ---------------  ---------------  ---------------  ---------------  ---------------  ---------------  ---------------  ---------------  ---------------\n",
            "SliceBackward                                14.98%         88.286ms           31.37%        184.881ms         77.486us           21.44%        194.002ms         81.309us             2386\n",
            "zeros                                         5.06%         29.805ms           17.75%        104.602ms         32.852us           12.33%        111.512ms         35.023us             3184\n",
            "add                                           6.14%         36.171ms            6.14%         36.171ms         28.039us           10.19%         92.173ms         71.452us             1290\n",
            "zero_                                         9.78%         57.636ms            9.78%         57.636ms         16.086us            8.63%         78.046ms         21.782us             3583\n",
            "SelectBackward                                5.90%         34.800ms           10.88%         64.133ms         80.367us            7.63%         69.005ms         86.473us              798\n",
            "torch::autograd::CopySlices                   4.49%         26.481ms            9.65%         56.869ms        142.530us            6.60%         59.738ms        149.720us              399\n",
            "logsumexp                                     7.19%         42.351ms            7.19%         42.351ms        211.756us            4.98%         45.051ms        225.256us              200\n",
            "stack                                         4.18%         24.658ms            4.18%         24.658ms         49.317us            3.65%         33.050ms         66.101us              500\n",
            "to                                            5.45%         32.127ms            6.20%         36.524ms         32.993us            3.34%         30.173ms         27.257us             1107\n",
            "slice                                         7.01%         41.316ms            7.01%         41.316ms          5.986us            3.19%         28.822ms          4.176us             6902\n",
            "LogsumexpBackward                             1.00%          5.883ms            7.35%         43.327ms        217.726us            1.98%         17.894ms         89.920us              199\n",
            "index_put_                                    2.92%         17.191ms            2.92%         17.191ms         85.954us            1.84%         16.630ms         83.148us              200\n",
            "empty                                         5.00%         29.446ms            5.00%         29.446ms          6.709us            1.69%         15.288ms          3.483us             4389\n",
            "select                                        3.33%         19.624ms            3.33%         19.624ms          6.127us            1.57%         14.226ms          4.441us             3203\n",
            "torch::autograd::CopyBackwards                0.52%          3.037ms            2.46%         14.495ms         36.330us            1.33%         12.077ms         30.267us              399\n",
            "index                                         1.34%          7.893ms            1.34%          7.893ms         39.464us            1.23%         11.165ms         55.824us              200\n",
            "zeros_like                                    0.75%          4.420ms            1.94%         11.458ms         28.717us            1.06%          9.600ms         24.060us              399\n",
            "type_as                                       0.14%        803.728us            1.52%          8.961ms         83.746us            0.99%          8.950ms         83.643us              107\n",
            "ViewBackward                                  0.39%          2.318ms            1.41%          8.300ms         20.802us            0.66%          5.978ms         14.983us              399\n",
            "clone                                         1.77%         10.414ms            1.77%         10.414ms         26.100us            0.61%          5.534ms         13.870us              399\n",
            "view                                          0.95%          5.571ms            0.95%          5.571ms          7.935us            0.58%          5.215ms          7.429us              702\n",
            "sub                                           1.01%          5.952ms            1.01%          5.952ms         29.910us            0.52%          4.698ms         23.608us              199\n",
            "fill_                                         0.58%          3.432ms            0.58%          3.432ms         16.423us            0.49%          4.428ms         21.184us              209\n",
            "mul                                           3.45%         20.331ms            3.45%         20.331ms        102.163us            0.48%          4.307ms         21.642us              199\n",
            "exp                                           1.49%          8.771ms            1.49%          8.771ms         44.074us            0.45%          4.026ms         20.232us              199\n",
            "scalar_tensor                                 0.23%          1.359ms            0.66%          3.898ms         38.981us            0.44%          3.944ms         39.445us              100\n",
            "StackBackward                                 0.91%          5.378ms            1.61%          9.507ms         23.886us            0.40%          3.621ms          9.099us              398\n",
            "reshape                                       0.53%          3.110ms            1.01%          5.982ms         14.993us            0.39%          3.564ms          8.931us              399\n",
            "sum                                           0.52%          3.069ms            0.52%          3.069ms         30.687us            0.35%          3.146ms         31.457us              100\n",
            "as_strided                                    1.00%          5.898ms            1.00%          5.898ms          7.391us            0.27%          2.427ms          3.042us              798\n",
            "unsqueeze                                     0.55%          3.221ms            0.55%          3.221ms          6.456us            0.22%          1.993ms          3.994us              499\n",
            "empty_strided                                 0.42%          2.453ms            0.42%          2.453ms          6.147us            0.13%          1.195ms          2.994us              399\n",
            "unbind                                        0.70%          4.128ms            0.70%          4.128ms         10.373us            0.13%          1.189ms          2.987us              398\n",
            "AddBackward0                                  0.18%          1.044ms            0.18%          1.044ms          3.504us            0.10%        886.109us          2.974us              298\n",
            "expand                                        0.13%        793.421us            0.13%        793.421us          7.856us            0.09%        790.557us          7.827us              101\n",
            "is_floating_point                             0.04%        207.950us            0.04%        207.950us          1.980us            0.03%        302.258us          2.879us              105\n",
            "SumBackward2                                  0.00%         16.123us            0.01%         32.817us         32.817us            0.00%         29.266us         29.266us                1\n",
            "torch::autograd::GraphRoot                    0.00%         19.979us            0.00%         19.979us         19.979us            0.00%         16.422us         16.422us                1\n",
            "----------------------------------  ---------------  ---------------  ---------------  ---------------  ---------------  ---------------  ---------------  ---------------  ---------------\n",
            "Self CPU time total: 589.415ms\n",
            "CUDA time total: 904.694ms\n",
            "\n"
          ],
          "name": "stdout"
        }
      ]
    },
    {
      "cell_type": "code",
      "metadata": {
        "id": "FR0pYkkR1QMt",
        "colab_type": "code",
        "colab": {}
      },
      "source": [
        "\n",
        "from pygments import highlight\n",
        "from pygments.lexers import PythonLexer\n",
        "from pygments.formatters import HtmlFormatter\n",
        "from IPython.core.display import HTML\n",
        "\n",
        "def show(fun):\n",
        "    code = \"\".join(inspect.getsourcelines(fun)[0])\n",
        "    display(HTML(\"\"\"\n",
        "    <style>\n",
        "    {pygments_css}\n",
        "    </style>\n",
        "    \"\"\".format(pygments_css=HtmlFormatter().get_style_defs(''))))\n",
        "    display(HTML(data=highlight(code, PythonLexer(), HtmlFormatter())))\n"
      ],
      "execution_count": 0,
      "outputs": []
    },
    {
      "cell_type": "code",
      "metadata": {
        "id": "Veg5sh9W2Xf_",
        "colab_type": "code",
        "outputId": "ff1b4ae8-8e24-4303-b690-df56b1d48cae",
        "colab": {
          "base_uri": "https://localhost:8080/",
          "height": 799
        }
      },
      "source": [
        "show(torch_struct.deptree_inside)"
      ],
      "execution_count": 0,
      "outputs": [
        {
          "output_type": "display_data",
          "data": {
            "text/html": [
              "\n",
              "    <style>\n",
              "    .hll { background-color: #ffffcc }\n",
              ".c { color: #408080; font-style: italic } /* Comment */\n",
              ".err { border: 1px solid #FF0000 } /* Error */\n",
              ".k { color: #008000; font-weight: bold } /* Keyword */\n",
              ".o { color: #666666 } /* Operator */\n",
              ".ch { color: #408080; font-style: italic } /* Comment.Hashbang */\n",
              ".cm { color: #408080; font-style: italic } /* Comment.Multiline */\n",
              ".cp { color: #BC7A00 } /* Comment.Preproc */\n",
              ".cpf { color: #408080; font-style: italic } /* Comment.PreprocFile */\n",
              ".c1 { color: #408080; font-style: italic } /* Comment.Single */\n",
              ".cs { color: #408080; font-style: italic } /* Comment.Special */\n",
              ".gd { color: #A00000 } /* Generic.Deleted */\n",
              ".ge { font-style: italic } /* Generic.Emph */\n",
              ".gr { color: #FF0000 } /* Generic.Error */\n",
              ".gh { color: #000080; font-weight: bold } /* Generic.Heading */\n",
              ".gi { color: #00A000 } /* Generic.Inserted */\n",
              ".go { color: #888888 } /* Generic.Output */\n",
              ".gp { color: #000080; font-weight: bold } /* Generic.Prompt */\n",
              ".gs { font-weight: bold } /* Generic.Strong */\n",
              ".gu { color: #800080; font-weight: bold } /* Generic.Subheading */\n",
              ".gt { color: #0044DD } /* Generic.Traceback */\n",
              ".kc { color: #008000; font-weight: bold } /* Keyword.Constant */\n",
              ".kd { color: #008000; font-weight: bold } /* Keyword.Declaration */\n",
              ".kn { color: #008000; font-weight: bold } /* Keyword.Namespace */\n",
              ".kp { color: #008000 } /* Keyword.Pseudo */\n",
              ".kr { color: #008000; font-weight: bold } /* Keyword.Reserved */\n",
              ".kt { color: #B00040 } /* Keyword.Type */\n",
              ".m { color: #666666 } /* Literal.Number */\n",
              ".s { color: #BA2121 } /* Literal.String */\n",
              ".na { color: #7D9029 } /* Name.Attribute */\n",
              ".nb { color: #008000 } /* Name.Builtin */\n",
              ".nc { color: #0000FF; font-weight: bold } /* Name.Class */\n",
              ".no { color: #880000 } /* Name.Constant */\n",
              ".nd { color: #AA22FF } /* Name.Decorator */\n",
              ".ni { color: #999999; font-weight: bold } /* Name.Entity */\n",
              ".ne { color: #D2413A; font-weight: bold } /* Name.Exception */\n",
              ".nf { color: #0000FF } /* Name.Function */\n",
              ".nl { color: #A0A000 } /* Name.Label */\n",
              ".nn { color: #0000FF; font-weight: bold } /* Name.Namespace */\n",
              ".nt { color: #008000; font-weight: bold } /* Name.Tag */\n",
              ".nv { color: #19177C } /* Name.Variable */\n",
              ".ow { color: #AA22FF; font-weight: bold } /* Operator.Word */\n",
              ".w { color: #bbbbbb } /* Text.Whitespace */\n",
              ".mb { color: #666666 } /* Literal.Number.Bin */\n",
              ".mf { color: #666666 } /* Literal.Number.Float */\n",
              ".mh { color: #666666 } /* Literal.Number.Hex */\n",
              ".mi { color: #666666 } /* Literal.Number.Integer */\n",
              ".mo { color: #666666 } /* Literal.Number.Oct */\n",
              ".sb { color: #BA2121 } /* Literal.String.Backtick */\n",
              ".sc { color: #BA2121 } /* Literal.String.Char */\n",
              ".sd { color: #BA2121; font-style: italic } /* Literal.String.Doc */\n",
              ".s2 { color: #BA2121 } /* Literal.String.Double */\n",
              ".se { color: #BB6622; font-weight: bold } /* Literal.String.Escape */\n",
              ".sh { color: #BA2121 } /* Literal.String.Heredoc */\n",
              ".si { color: #BB6688; font-weight: bold } /* Literal.String.Interpol */\n",
              ".sx { color: #008000 } /* Literal.String.Other */\n",
              ".sr { color: #BB6688 } /* Literal.String.Regex */\n",
              ".s1 { color: #BA2121 } /* Literal.String.Single */\n",
              ".ss { color: #19177C } /* Literal.String.Symbol */\n",
              ".bp { color: #008000 } /* Name.Builtin.Pseudo */\n",
              ".vc { color: #19177C } /* Name.Variable.Class */\n",
              ".vg { color: #19177C } /* Name.Variable.Global */\n",
              ".vi { color: #19177C } /* Name.Variable.Instance */\n",
              ".il { color: #666666 } /* Literal.Number.Integer.Long */\n",
              "    </style>\n",
              "    "
            ],
            "text/plain": [
              "<IPython.core.display.HTML object>"
            ]
          },
          "metadata": {
            "tags": []
          }
        },
        {
          "output_type": "display_data",
          "data": {
            "text/html": [
              "<div class=\"highlight\"><pre><span></span><span class=\"k\">def</span> <span class=\"nf\">deptree_inside</span><span class=\"p\">(</span><span class=\"n\">arc_scores</span><span class=\"p\">,</span> <span class=\"n\">semiring</span><span class=\"o\">=</span><span class=\"n\">LogSemiring</span><span class=\"p\">):</span>\n",
              "    <span class=\"sd\">&quot;&quot;&quot;</span>\n",
              "<span class=\"sd\">    Parameters:</span>\n",
              "<span class=\"sd\">         arc_scores : b x N x N arc scores with root scores on diagonal.</span>\n",
              "<span class=\"sd\">         semiring</span>\n",
              "\n",
              "<span class=\"sd\">    Returns:</span>\n",
              "<span class=\"sd\">         v: b tensor of total sum</span>\n",
              "<span class=\"sd\">         arcs: list of N,  LR x b x N table</span>\n",
              "\n",
              "<span class=\"sd\">    &quot;&quot;&quot;</span>\n",
              "    <span class=\"n\">arc_scores</span> <span class=\"o\">=</span> <span class=\"n\">_convert</span><span class=\"p\">(</span><span class=\"n\">arc_scores</span><span class=\"p\">)</span>\n",
              "    <span class=\"n\">batch_size</span><span class=\"p\">,</span> <span class=\"n\">N</span><span class=\"p\">,</span> <span class=\"n\">_</span> <span class=\"o\">=</span> <span class=\"n\">arc_scores</span><span class=\"o\">.</span><span class=\"n\">shape</span>\n",
              "    <span class=\"n\">DIRS</span> <span class=\"o\">=</span> <span class=\"mi\">2</span>\n",
              "    <span class=\"n\">stack</span> <span class=\"o\">=</span> <span class=\"k\">lambda</span> <span class=\"n\">a</span><span class=\"p\">,</span> <span class=\"n\">b</span><span class=\"p\">:</span> <span class=\"n\">torch</span><span class=\"o\">.</span><span class=\"n\">stack</span><span class=\"p\">([</span><span class=\"n\">a</span><span class=\"p\">,</span> <span class=\"n\">b</span><span class=\"p\">])</span>\n",
              "    <span class=\"n\">sstack</span> <span class=\"o\">=</span> <span class=\"k\">lambda</span> <span class=\"n\">a</span><span class=\"p\">:</span> <span class=\"n\">torch</span><span class=\"o\">.</span><span class=\"n\">stack</span><span class=\"p\">([</span><span class=\"n\">a</span><span class=\"p\">,</span> <span class=\"n\">a</span><span class=\"p\">])</span>\n",
              "\n",
              "    <span class=\"n\">alpha</span> <span class=\"o\">=</span> <span class=\"p\">[</span>\n",
              "        <span class=\"p\">[</span><span class=\"n\">_make_chart</span><span class=\"p\">((</span><span class=\"n\">DIRS</span><span class=\"p\">,</span> <span class=\"n\">batch_size</span><span class=\"p\">,</span> <span class=\"n\">N</span><span class=\"p\">,</span> <span class=\"n\">N</span><span class=\"p\">),</span> <span class=\"n\">arc_scores</span><span class=\"p\">,</span> <span class=\"n\">semiring</span><span class=\"p\">)</span> <span class=\"k\">for</span> <span class=\"n\">_</span> <span class=\"ow\">in</span> <span class=\"p\">[</span><span class=\"n\">I</span><span class=\"p\">,</span> <span class=\"n\">C</span><span class=\"p\">]]</span>\n",
              "        <span class=\"k\">for</span> <span class=\"n\">_</span> <span class=\"ow\">in</span> <span class=\"nb\">range</span><span class=\"p\">(</span><span class=\"mi\">2</span><span class=\"p\">)</span>\n",
              "    <span class=\"p\">]</span>\n",
              "    <span class=\"n\">arcs</span> <span class=\"o\">=</span> <span class=\"p\">[</span><span class=\"n\">_make_chart</span><span class=\"p\">((</span><span class=\"n\">DIRS</span><span class=\"p\">,</span> <span class=\"n\">batch_size</span><span class=\"p\">,</span> <span class=\"n\">N</span><span class=\"p\">),</span> <span class=\"n\">arc_scores</span><span class=\"p\">,</span> <span class=\"n\">semiring</span><span class=\"p\">)</span> <span class=\"k\">for</span> <span class=\"n\">_</span> <span class=\"ow\">in</span> <span class=\"nb\">range</span><span class=\"p\">(</span><span class=\"n\">N</span><span class=\"p\">)]</span>\n",
              "\n",
              "    <span class=\"c1\"># Inside step. assumes first token is root symbol</span>\n",
              "    <span class=\"n\">alpha</span><span class=\"p\">[</span><span class=\"n\">A</span><span class=\"p\">][</span><span class=\"n\">C</span><span class=\"p\">][:,</span> <span class=\"p\">:,</span> <span class=\"p\">:,</span> <span class=\"mi\">0</span><span class=\"p\">]</span><span class=\"o\">.</span><span class=\"n\">data</span><span class=\"o\">.</span><span class=\"n\">fill_</span><span class=\"p\">(</span><span class=\"n\">semiring</span><span class=\"o\">.</span><span class=\"n\">one</span><span class=\"p\">())</span>\n",
              "    <span class=\"n\">alpha</span><span class=\"p\">[</span><span class=\"n\">B</span><span class=\"p\">][</span><span class=\"n\">C</span><span class=\"p\">][:,</span> <span class=\"p\">:,</span> <span class=\"p\">:,</span> <span class=\"o\">-</span><span class=\"mi\">1</span><span class=\"p\">]</span><span class=\"o\">.</span><span class=\"n\">data</span><span class=\"o\">.</span><span class=\"n\">fill_</span><span class=\"p\">(</span><span class=\"n\">semiring</span><span class=\"o\">.</span><span class=\"n\">one</span><span class=\"p\">())</span>\n",
              "\n",
              "    <span class=\"k\">for</span> <span class=\"n\">k</span> <span class=\"ow\">in</span> <span class=\"nb\">range</span><span class=\"p\">(</span><span class=\"mi\">1</span><span class=\"p\">,</span> <span class=\"n\">N</span><span class=\"p\">):</span>\n",
              "        <span class=\"n\">f</span> <span class=\"o\">=</span> <span class=\"n\">torch</span><span class=\"o\">.</span><span class=\"n\">arange</span><span class=\"p\">(</span><span class=\"n\">N</span> <span class=\"o\">-</span> <span class=\"n\">k</span><span class=\"p\">),</span> <span class=\"n\">torch</span><span class=\"o\">.</span><span class=\"n\">arange</span><span class=\"p\">(</span><span class=\"n\">k</span><span class=\"p\">,</span> <span class=\"n\">N</span><span class=\"p\">)</span>\n",
              "        <span class=\"n\">arcs</span><span class=\"p\">[</span><span class=\"n\">k</span><span class=\"p\">]</span> <span class=\"o\">=</span> <span class=\"n\">semiring</span><span class=\"o\">.</span><span class=\"n\">dot</span><span class=\"p\">(</span>\n",
              "            <span class=\"n\">sstack</span><span class=\"p\">(</span><span class=\"n\">alpha</span><span class=\"p\">[</span><span class=\"n\">A</span><span class=\"p\">][</span><span class=\"n\">C</span><span class=\"p\">][</span><span class=\"n\">R</span><span class=\"p\">,</span> <span class=\"p\">:,</span> <span class=\"p\">:</span> <span class=\"n\">N</span> <span class=\"o\">-</span> <span class=\"n\">k</span><span class=\"p\">,</span> <span class=\"p\">:</span><span class=\"n\">k</span><span class=\"p\">]),</span>\n",
              "            <span class=\"n\">sstack</span><span class=\"p\">(</span><span class=\"n\">alpha</span><span class=\"p\">[</span><span class=\"n\">B</span><span class=\"p\">][</span><span class=\"n\">C</span><span class=\"p\">][</span><span class=\"n\">L</span><span class=\"p\">,</span> <span class=\"p\">:,</span> <span class=\"n\">k</span><span class=\"p\">:,</span> <span class=\"n\">N</span> <span class=\"o\">-</span> <span class=\"n\">k</span> <span class=\"p\">:]),</span>\n",
              "            <span class=\"n\">stack</span><span class=\"p\">(</span><span class=\"n\">arc_scores</span><span class=\"p\">[:,</span> <span class=\"n\">f</span><span class=\"p\">[</span><span class=\"mi\">1</span><span class=\"p\">],</span> <span class=\"n\">f</span><span class=\"p\">[</span><span class=\"mi\">0</span><span class=\"p\">]],</span> <span class=\"n\">arc_scores</span><span class=\"p\">[:,</span> <span class=\"n\">f</span><span class=\"p\">[</span><span class=\"mi\">0</span><span class=\"p\">],</span> <span class=\"n\">f</span><span class=\"p\">[</span><span class=\"mi\">1</span><span class=\"p\">]])</span><span class=\"o\">.</span><span class=\"n\">unsqueeze</span><span class=\"p\">(</span><span class=\"o\">-</span><span class=\"mi\">1</span><span class=\"p\">),</span>\n",
              "        <span class=\"p\">)</span>\n",
              "        <span class=\"n\">alpha</span><span class=\"p\">[</span><span class=\"n\">A</span><span class=\"p\">][</span><span class=\"n\">I</span><span class=\"p\">][:,</span> <span class=\"p\">:,</span> <span class=\"p\">:</span> <span class=\"n\">N</span> <span class=\"o\">-</span> <span class=\"n\">k</span><span class=\"p\">,</span> <span class=\"n\">k</span><span class=\"p\">]</span> <span class=\"o\">=</span> <span class=\"n\">arcs</span><span class=\"p\">[</span><span class=\"n\">k</span><span class=\"p\">]</span>\n",
              "        <span class=\"n\">alpha</span><span class=\"p\">[</span><span class=\"n\">B</span><span class=\"p\">][</span><span class=\"n\">I</span><span class=\"p\">][:,</span> <span class=\"p\">:,</span> <span class=\"n\">k</span><span class=\"p\">:</span><span class=\"n\">N</span><span class=\"p\">,</span> <span class=\"n\">N</span> <span class=\"o\">-</span> <span class=\"n\">k</span> <span class=\"o\">-</span> <span class=\"mi\">1</span><span class=\"p\">]</span> <span class=\"o\">=</span> <span class=\"n\">alpha</span><span class=\"p\">[</span><span class=\"n\">A</span><span class=\"p\">][</span><span class=\"n\">I</span><span class=\"p\">][:,</span> <span class=\"p\">:,</span> <span class=\"p\">:</span> <span class=\"n\">N</span> <span class=\"o\">-</span> <span class=\"n\">k</span><span class=\"p\">,</span> <span class=\"n\">k</span><span class=\"p\">]</span>\n",
              "        <span class=\"n\">alpha</span><span class=\"p\">[</span><span class=\"n\">A</span><span class=\"p\">][</span><span class=\"n\">C</span><span class=\"p\">][:,</span> <span class=\"p\">:,</span> <span class=\"p\">:</span> <span class=\"n\">N</span> <span class=\"o\">-</span> <span class=\"n\">k</span><span class=\"p\">,</span> <span class=\"n\">k</span><span class=\"p\">]</span> <span class=\"o\">=</span> <span class=\"n\">semiring</span><span class=\"o\">.</span><span class=\"n\">dot</span><span class=\"p\">(</span>\n",
              "            <span class=\"n\">stack</span><span class=\"p\">(</span>\n",
              "                <span class=\"n\">alpha</span><span class=\"p\">[</span><span class=\"n\">A</span><span class=\"p\">][</span><span class=\"n\">C</span><span class=\"p\">][</span><span class=\"n\">L</span><span class=\"p\">,</span> <span class=\"p\">:,</span> <span class=\"p\">:</span> <span class=\"n\">N</span> <span class=\"o\">-</span> <span class=\"n\">k</span><span class=\"p\">,</span> <span class=\"p\">:</span><span class=\"n\">k</span><span class=\"p\">],</span> <span class=\"n\">alpha</span><span class=\"p\">[</span><span class=\"n\">A</span><span class=\"p\">][</span><span class=\"n\">I</span><span class=\"p\">][</span><span class=\"n\">R</span><span class=\"p\">,</span> <span class=\"p\">:,</span> <span class=\"p\">:</span> <span class=\"n\">N</span> <span class=\"o\">-</span> <span class=\"n\">k</span><span class=\"p\">,</span> <span class=\"mi\">1</span> <span class=\"p\">:</span> <span class=\"n\">k</span> <span class=\"o\">+</span> <span class=\"mi\">1</span><span class=\"p\">]</span>\n",
              "            <span class=\"p\">),</span>\n",
              "            <span class=\"n\">stack</span><span class=\"p\">(</span>\n",
              "                <span class=\"n\">alpha</span><span class=\"p\">[</span><span class=\"n\">B</span><span class=\"p\">][</span><span class=\"n\">I</span><span class=\"p\">][</span><span class=\"n\">L</span><span class=\"p\">,</span> <span class=\"p\">:,</span> <span class=\"n\">k</span><span class=\"p\">:,</span> <span class=\"n\">N</span> <span class=\"o\">-</span> <span class=\"n\">k</span> <span class=\"o\">-</span> <span class=\"mi\">1</span> <span class=\"p\">:</span> <span class=\"n\">N</span> <span class=\"o\">-</span> <span class=\"mi\">1</span><span class=\"p\">],</span> <span class=\"n\">alpha</span><span class=\"p\">[</span><span class=\"n\">B</span><span class=\"p\">][</span><span class=\"n\">C</span><span class=\"p\">][</span><span class=\"n\">R</span><span class=\"p\">,</span> <span class=\"p\">:,</span> <span class=\"n\">k</span><span class=\"p\">:,</span> <span class=\"n\">N</span> <span class=\"o\">-</span> <span class=\"n\">k</span> <span class=\"p\">:]</span>\n",
              "            <span class=\"p\">),</span>\n",
              "        <span class=\"p\">)</span>\n",
              "        <span class=\"n\">alpha</span><span class=\"p\">[</span><span class=\"n\">B</span><span class=\"p\">][</span><span class=\"n\">C</span><span class=\"p\">][:,</span> <span class=\"p\">:,</span> <span class=\"n\">k</span><span class=\"p\">:</span><span class=\"n\">N</span><span class=\"p\">,</span> <span class=\"n\">N</span> <span class=\"o\">-</span> <span class=\"n\">k</span> <span class=\"o\">-</span> <span class=\"mi\">1</span><span class=\"p\">]</span> <span class=\"o\">=</span> <span class=\"n\">alpha</span><span class=\"p\">[</span><span class=\"n\">A</span><span class=\"p\">][</span><span class=\"n\">C</span><span class=\"p\">][:,</span> <span class=\"p\">:,</span> <span class=\"p\">:</span> <span class=\"n\">N</span> <span class=\"o\">-</span> <span class=\"n\">k</span><span class=\"p\">,</span> <span class=\"n\">k</span><span class=\"p\">]</span>\n",
              "    <span class=\"k\">return</span> <span class=\"n\">alpha</span><span class=\"p\">[</span><span class=\"n\">A</span><span class=\"p\">][</span><span class=\"n\">C</span><span class=\"p\">][</span><span class=\"n\">R</span><span class=\"p\">,</span> <span class=\"p\">:,</span> <span class=\"mi\">0</span><span class=\"p\">,</span> <span class=\"n\">N</span><span class=\"o\">-</span><span class=\"mi\">1</span><span class=\"p\">],</span> <span class=\"n\">arcs</span>\n",
              "</pre></div>\n"
            ],
            "text/plain": [
              "<IPython.core.display.HTML object>"
            ]
          },
          "metadata": {
            "tags": []
          }
        }
      ]
    }
  ]
}