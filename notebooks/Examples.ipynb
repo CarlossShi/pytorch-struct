{
 "cells": [
  {
   "cell_type": "markdown",
   "metadata": {},
   "source": [
    "\n",
    "# Pytorch-Struct\n",
    "\n",
    "[![Build Status](https://travis-ci.org/harvardnlp/pytorch-struct.svg?branch=master)](https://travis-ci.org/harvardnlp/pytorch-struct)\n",
    "[![Coverage Status](https://coveralls.io/repos/github/harvardnlp/pytorch-struct/badge.svg?branch=master)](https://coveralls.io/github/harvardnlp/pytorch-struct?branch=master)\n",
    "\n",
    "<p align=\"center\">\n",
    "  <img src=\"https://github.com/harvardnlp/pytorch-struct/raw/master/download.png\">\n",
    "  </p>\n",
    "\n",
    "\n",
    "\n",
    "A library of tested, GPU implementations of core structured prediction algorithms for deep learning applications.\n",
    "(or an implementation of <a href=\"https://www.cs.jhu.edu/~jason/papers/eisner.spnlp16.pdf\">Inside-Outside and Forward-Backward Algorithms Are Just Backprop\"<a/>)\n"
   ]
  },
  {
   "cell_type": "markdown",
   "metadata": {},
   "source": [
    "## Getting Started"
   ]
  },
  {
   "cell_type": "code",
   "execution_count": 1,
   "metadata": {},
   "outputs": [],
   "source": [
    "!pip install -qU git+https://github.com/harvardnlp/pytorch-struct\n",
    "!pip install -q matplotlib"
   ]
  },
  {
   "cell_type": "code",
   "execution_count": 2,
   "metadata": {},
   "outputs": [],
   "source": [
    "import torch\n",
    "from torch_struct import DepTree, LinearChain, MaxSemiring, SampledSemiring\n",
    "import matplotlib.pyplot as plt\n",
    "def show(x): plt.imshow(x.detach())"
   ]
  },
  {
   "cell_type": "code",
   "execution_count": 6,
   "metadata": {},
   "outputs": [
    {
     "data": {
      "image/png": "[encoded data removed]",
      "text/plain": [
       "<Figure size 432x288 with 1 Axes>"
      ]
     },
     "metadata": {
      "needs_background": "light"
     },
     "output_type": "display_data"
    }
   ],
   "source": [
    "# Make some data.\n",
    "vals = torch.zeros(2, 10, 10) + 1e-5\n",
    "vals[:, :5, :5] = torch.rand(5)\n",
    "vals[:, 5:, 5:] = torch.rand(5) \n",
    "vals = vals.log()\n",
    "show(vals[0])"
   ]
  },
  {
   "cell_type": "code",
   "execution_count": 8,
   "metadata": {},
   "outputs": [
    {
     "data": {
      "image/png": "[encoded data removed]",
      "text/plain": [
       "<Figure size 432x288 with 1 Axes>"
      ]
     },
     "metadata": {
      "needs_background": "light"
     },
     "output_type": "display_data"
    }
   ],
   "source": [
    "# Compute marginals\n",
    "marginals = DepTree().marginals(vals)\n",
    "show(marginals[0])"
   ]
  },
  {
   "cell_type": "code",
   "execution_count": 9,
   "metadata": {},
   "outputs": [
    {
     "data": {
      "image/png": "[encoded data removed]",
      "text/plain": [
       "<Figure size 432x288 with 1 Axes>"
      ]
     },
     "metadata": {
      "needs_background": "light"
     },
     "output_type": "display_data"
    }
   ],
   "source": [
    "# Compute argmax\n",
    "argmax = DepTree(MaxSemiring).marginals(vals)\n",
    "show(argmax.detach()[0])"
   ]
  },
  {
   "cell_type": "code",
   "execution_count": 10,
   "metadata": {},
   "outputs": [],
   "source": [
    "# Compute scoring and enumeration (forward / inside)\n",
    "log_partition = DepTree().sum(vals)\n",
    "max_score = DepTree(MaxSemiring).sum(vals)\n",
    "max_score = DepTree().score(argmax, vals)"
   ]
  },
  {
   "cell_type": "code",
   "execution_count": 12,
   "metadata": {},
   "outputs": [
    {
     "data": {
      "image/png": "[encoded data removed]",
      "text/plain": [
       "<Figure size 432x288 with 1 Axes>"
      ]
     },
     "metadata": {
      "needs_background": "light"
     },
     "output_type": "display_data"
    }
   ],
   "source": [
    "# Compute samples \n",
    "sample = DepTree(SampledSemiring).marginals(vals)\n",
    "show(sample.detach()[0])"
   ]
  },
  {
   "cell_type": "code",
   "execution_count": 15,
   "metadata": {},
   "outputs": [
    {
     "data": {
      "image/png": "[encoded data removed]",
      "text/plain": [
       "<Figure size 432x288 with 1 Axes>"
      ]
     },
     "metadata": {
      "needs_background": "light"
     },
     "output_type": "display_data"
    },
    {
     "data": {
      "image/png": "[encoded data removed]",
      "text/plain": [
       "<Figure size 432x288 with 1 Axes>"
      ]
     },
     "metadata": {
      "needs_background": "light"
     },
     "output_type": "display_data"
    }
   ],
   "source": [
    "# Padding/Masking built into library.\n",
    "marginals = DepTree().marginals(\n",
    "    vals,\n",
    "    lengths=torch.tensor([10, 7]))\n",
    "show(marginals[0])\n",
    "plt.show()\n",
    "show(marginals[1])"
   ]
  },
  {
   "cell_type": "code",
   "execution_count": 16,
   "metadata": {},
   "outputs": [
    {
     "data": {
      "image/png": "[encoded data removed]",
      "text/plain": [
       "<Figure size 432x288 with 1 Axes>"
      ]
     },
     "metadata": {
      "needs_background": "light"
     },
     "output_type": "display_data"
    }
   ],
   "source": [
    "# Many other structured prediction approaches\n",
    "chain = torch.zeros(2, 10, 10, 10) + 1e-5\n",
    "chain[:, :, :, :] = vals.unsqueeze(-1).exp()\n",
    "chain[:, :, :, :] += torch.eye(10, 10).view(1, 1, 10, 10) \n",
    "chain[:, 0, :, 0] = 1\n",
    "chain[:, -1,9, :] = 1\n",
    "chain = chain.log()\n",
    "\n",
    "marginals = LinearChain().marginals(chain)\n",
    "show(marginals.detach()[0].sum(-1))"
   ]
  },
  {
   "cell_type": "markdown",
   "metadata": {},
   "source": [
    "## Library\n",
    "\n",
    "Current algorithms implemented:\n",
    "\n",
    "* Linear Chain (CRF / HMM)\n",
    "* Semi-Markov (CRF / HSMM)\n",
    "* Dependency Parsing (Projective and Non-Projective)\n",
    "* CKY (CFG)\n",
    "\n",
    "* Integration with `torchtext` and `pytorch-transformers` \n",
    "\n",
    "Design Strategy:\n",
    "\n",
    "1) Minimal implementatations. Most are 10 lines.\n",
    "2) Batched for GPU.\n",
    "3) Code can be ported to other backends\n",
    "\n",
    "Semirings:\n",
    "\n",
    "* Log Marginals\n",
    "* Max and MAP computation\n",
    "* Sampling through specialized backprop\n",
    "\n",
    "\n"
   ]
  },
  {
   "cell_type": "markdown",
   "metadata": {},
   "source": [
    "## Examples\n",
    "\n",
    "* BERT <a href=\"https://github.com/harvardnlp/pytorch-struct/blob/master/notebooks/BertTagger.ipynb\">Part-of-Speech</a> \n",
    "* BERT <a href=\"https://github.com/harvardnlp/pytorch-struct/blob/master/notebooks/BertDependencies.ipynb\">Dependency Parsing</a>\n",
    "* Unsupervised Learning (to come)\n",
    "* Structured VAE (to come)"
   ]
  }
 ],
 "metadata": {
  "kernelspec": {
   "display_name": "Python 3",
   "language": "python",
   "name": "python3"
  },
  "language_info": {
   "codemirror_mode": {
    "name": "ipython",
    "version": 3
   },
   "file_extension": ".py",
   "mimetype": "text/x-python",
   "name": "python",
   "nbconvert_exporter": "python",
   "pygments_lexer": "ipython3",
   "version": "3.7.2"
  }
 },
 "nbformat": 4,
 "nbformat_minor": 2
}
