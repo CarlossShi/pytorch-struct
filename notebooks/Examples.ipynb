{
 "cells": [
  {
   "cell_type": "markdown",
   "metadata": {},
   "source": [
    "\n",
    "# Pytorch-Struct\n",
    "\n",
    "[![Build Status](https://travis-ci.org/harvardnlp/pytorch-struct.svg?branch=master)](https://travis-ci.org/harvardnlp/pytorch-struct)\n",
    "[![Coverage Status](https://coveralls.io/repos/github/harvardnlp/pytorch-struct/badge.svg?branch=master)](https://coveralls.io/github/harvardnlp/pytorch-struct?branch=master)\n",
    "\n",
    "<p align=\"center\">\n",
    "  <img src=\"https://github.com/harvardnlp/pytorch-struct/raw/master/download.png\">\n",
    "  </p>\n",
    "\n",
    "\n",
    "\n",
    "A library of tested, GPU implementations of core structured prediction algorithms for deep learning applications.\n",
    "(or an implementation of <a href=\"https://www.cs.jhu.edu/~jason/papers/eisner.spnlp16.pdf\">Inside-Outside and Forward-Backward Algorithms Are Just Backprop\"<a/>)\n"
   ]
  },
  {
   "cell_type": "code",
   "execution_count": 1,
   "metadata": {},
   "outputs": [],
   "source": [
    "!pip install -qU git+https://github.com/harvardnlp/pytorch-struct\n",
    "!pip install -q matplotlib"
   ]
  },
  {
   "cell_type": "code",
   "execution_count": 2,
   "metadata": {},
   "outputs": [],
   "source": [
    "import torch\n",
    "from torch_struct import DepTree, LinearChain, MaxSemiring, SampledSemiring\n",
    "import matplotlib.pyplot as plt"
   ]
  },
  {
   "cell_type": "code",
   "execution_count": 3,
   "metadata": {},
   "outputs": [
    {
     "data": {
      "text/plain": [
       "<matplotlib.image.AxesImage at 0x7f4c2ee80320>"
      ]
     },
     "execution_count": 3,
     "metadata": {},
     "output_type": "execute_result"
    },
    {
     "data": {
      "image/png": "[encoded data removed]",
      "text/plain": [
       "<Figure size 432x288 with 1 Axes>"
      ]
     },
     "metadata": {
      "needs_background": "light"
     },
     "output_type": "display_data"
    }
   ],
   "source": [
    "vals = torch.zeros(2, 10, 10) + 1e-5\n",
    "vals[:, :5, :5] = torch.rand(5) \n",
    "vals[:, 5:, 5:] = torch.rand(5) \n",
    "vals = vals.log()\n",
    "plt.imshow(vals[0])"
   ]
  },
  {
   "cell_type": "code",
   "execution_count": 4,
   "metadata": {},
   "outputs": [
    {
     "data": {
      "text/plain": [
       "<matplotlib.image.AxesImage at 0x7f4c2e7355f8>"
      ]
     },
     "execution_count": 4,
     "metadata": {},
     "output_type": "execute_result"
    },
    {
     "data": {
      "image/png": "[encoded data removed]",
      "text/plain": [
       "<Figure size 432x288 with 1 Axes>"
      ]
     },
     "metadata": {
      "needs_background": "light"
     },
     "output_type": "display_data"
    }
   ],
   "source": [
    "plt.imshow(vals.softmax(-1)[0])"
   ]
  },
  {
   "cell_type": "code",
   "execution_count": 5,
   "metadata": {},
   "outputs": [
    {
     "data": {
      "text/plain": [
       "<matplotlib.image.AxesImage at 0x7f4c2e71e2b0>"
      ]
     },
     "execution_count": 5,
     "metadata": {},
     "output_type": "execute_result"
    },
    {
     "data": {
      "image/png": "[encoded data removed]",
      "text/plain": [
       "<Figure size 432x288 with 1 Axes>"
      ]
     },
     "metadata": {
      "needs_background": "light"
     },
     "output_type": "display_data"
    }
   ],
   "source": [
    "# Marginals\n",
    "marginals = DepTree().marginals(vals)\n",
    "plt.imshow(marginals[0].detach())"
   ]
  },
  {
   "cell_type": "code",
   "execution_count": 6,
   "metadata": {},
   "outputs": [
    {
     "data": {
      "text/plain": [
       "<matplotlib.image.AxesImage at 0x7f4c29e6acf8>"
      ]
     },
     "execution_count": 6,
     "metadata": {},
     "output_type": "execute_result"
    },
    {
     "data": {
      "image/png": "[encoded data removed]",
      "text/plain": [
       "<Figure size 432x288 with 1 Axes>"
      ]
     },
     "metadata": {
      "needs_background": "light"
     },
     "output_type": "display_data"
    }
   ],
   "source": [
    "# Argmax\n",
    "argmax = DepTree(MaxSemiring).marginals(vals)\n",
    "plt.imshow(argmax.detach()[0])"
   ]
  },
  {
   "cell_type": "code",
   "execution_count": 7,
   "metadata": {},
   "outputs": [],
   "source": [
    "# Scoring and enumeration (forward / inside)\n",
    "log_partition = DepTree().sum(vals)\n",
    "max_score = DepTree(MaxSemiring).sum(vals)\n",
    "max_score = DepTree().score(argmax, vals)"
   ]
  },
  {
   "cell_type": "code",
   "execution_count": 8,
   "metadata": {},
   "outputs": [
    {
     "data": {
      "text/plain": [
       "<matplotlib.image.AxesImage at 0x7f4c29e56198>"
      ]
     },
     "execution_count": 8,
     "metadata": {},
     "output_type": "execute_result"
    },
    {
     "data": {
      "image/png": "[encoded data removed]",
      "text/plain": [
       "<Figure size 432x288 with 1 Axes>"
      ]
     },
     "metadata": {
      "needs_background": "light"
     },
     "output_type": "display_data"
    }
   ],
   "source": [
    "# Sampling \n",
    "sample = DepTree(SampledSemiring).marginals(vals)\n",
    "plt.imshow(sample.detach()[0])"
   ]
  },
  {
   "cell_type": "code",
   "execution_count": 9,
   "metadata": {},
   "outputs": [
    {
     "data": {
      "image/png": "[encoded data removed]",
      "text/plain": [
       "<Figure size 432x288 with 1 Axes>"
      ]
     },
     "metadata": {
      "needs_background": "light"
     },
     "output_type": "display_data"
    },
    {
     "data": {
      "text/plain": [
       "<matplotlib.image.AxesImage at 0x7f4c2857d6a0>"
      ]
     },
     "execution_count": 9,
     "metadata": {},
     "output_type": "execute_result"
    },
    {
     "data": {
      "image/png": "[encoded data removed]",
      "text/plain": [
       "<Figure size 432x288 with 1 Axes>"
      ]
     },
     "metadata": {
      "needs_background": "light"
     },
     "output_type": "display_data"
    }
   ],
   "source": [
    "# Padding/Masking built into library.\n",
    "\n",
    "marginals = DepTree().marginals(vals,\n",
    "                                lengths=torch.tensor([10, 7]))\n",
    "plt.imshow(marginals[0].detach())\n",
    "plt.show()\n",
    "plt.imshow(marginals[1].detach())"
   ]
  },
  {
   "cell_type": "code",
   "execution_count": 12,
   "metadata": {},
   "outputs": [
    {
     "data": {
      "text/plain": [
       "<matplotlib.image.AxesImage at 0x7f4c28504940>"
      ]
     },
     "execution_count": 12,
     "metadata": {},
     "output_type": "execute_result"
    },
    {
     "data": {
      "image/png": "[encoded data removed]",
      "text/plain": [
       "<Figure size 432x288 with 1 Axes>"
      ]
     },
     "metadata": {
      "needs_background": "light"
     },
     "output_type": "display_data"
    }
   ],
   "source": [
    "# Many other structured prediction approaches\n",
    "chain = torch.zeros(2, 10, 10, 10) + 1e-5\n",
    "chain[:, :, :, :] = vals.unsqueeze(-1).exp()\n",
    "chain[:, :, :, :] += torch.eye(10, 10).view(1, 1, 10, 10) \n",
    "chain[:, 0, :, 0] = 1\n",
    "chain[:, -1,9, :] = 1\n",
    "chain = chain.log()\n",
    "\n",
    "marginals = LinearChain().marginals(chain)\n",
    "plt.imshow(marginals.detach()[0].sum(-1))"
   ]
  },
  {
   "cell_type": "markdown",
   "metadata": {},
   "source": [
    "## Library\n",
    "\n",
    "Current algorithms implemented:\n",
    "\n",
    "* Linear Chain (CRF / HMM)\n",
    "* Semi-Markov (CRF / HSMM)\n",
    "* Dependency Parsing (Projective and Non-Projective)\n",
    "* CKY (CFG)\n",
    "\n",
    "Design Strategy:\n",
    "\n",
    "1) Minimal implementatations. Most are 10 lines.\n",
    "2) Batched for GPU.\n",
    "3) Code can be ported to other backends\n",
    "\n",
    "Semirings:\n",
    "\n",
    "* Log Marginals\n",
    "* Max and MAP computation\n",
    "* Sampling through specialized backprop\n"
   ]
  }
 ],
 "metadata": {
  "kernelspec": {
   "display_name": "Python 3",
   "language": "python",
   "name": "python3"
  },
  "language_info": {
   "codemirror_mode": {
    "name": "ipython",
    "version": 3
   },
   "file_extension": ".py",
   "mimetype": "text/x-python",
   "name": "python",
   "nbconvert_exporter": "python",
   "pygments_lexer": "ipython3",
   "version": "3.7.2"
  }
 },
 "nbformat": 4,
 "nbformat_minor": 2
}
